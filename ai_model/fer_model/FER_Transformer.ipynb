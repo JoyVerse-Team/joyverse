{
 "cells": [
  {
   "cell_type": "code",
   "execution_count": 1,
   "id": "afb7f743-0296-41e0-8213-b565da73940e",
   "metadata": {},
   "outputs": [
    {
     "name": "stdout",
     "output_type": "stream",
     "text": [
      "Using device: cpu\n"
     ]
    }
   ],
   "source": [
    "import pandas as pd\n",
    "import numpy as np\n",
    "import matplotlib.pyplot as plt\n",
    "import torch\n",
    "import torch.nn as nn\n",
    "import torch.nn.functional as F\n",
    "from torch.utils.data import Dataset, DataLoader\n",
    "from sklearn.preprocessing import LabelEncoder\n",
    "from sklearn.metrics import classification_report, confusion_matrix\n",
    "\n",
    "# ⚙️ Set device (CPU or GPU)\n",
    "device = torch.device('cuda' if torch.cuda.is_available() else 'cpu')\n",
    "print(\"Using device:\", device)\n",
    "\n"
   ]
  },
  {
   "cell_type": "code",
   "execution_count": 2,
   "id": "271a04cc-81f0-4ebd-87ef-2aeec5c209bc",
   "metadata": {},
   "outputs": [],
   "source": [
    "class LandmarkEmotionDataset(Dataset):\n",
    "    def __init__(self, csv_file, label_encoder=None, normalize=True):\n",
    "        df = pd.read_csv(csv_file)\n",
    "\n",
    "        # Extract features and labels\n",
    "        self.X = df.iloc[:, :-1].values.astype(np.float32)\n",
    "        self.y = df.iloc[:, -1].values\n",
    "\n",
    "        # Normalize feature-wise (each column = one landmark coordinate)\n",
    "        if normalize:\n",
    "            self.mean = self.X.mean(axis=0)\n",
    "            self.std = self.X.std(axis=0) + 1e-6  # prevent division by 0\n",
    "            self.X = (self.X - self.mean) / self.std\n",
    "\n",
    "        # Label encode target\n",
    "        if label_encoder is None:\n",
    "            self.label_encoder = LabelEncoder()\n",
    "            self.y = self.label_encoder.fit_transform(self.y)\n",
    "        else:\n",
    "            self.label_encoder = label_encoder\n",
    "            self.y = self.label_encoder.transform(self.y)\n",
    "\n",
    "    def __len__(self):\n",
    "        return len(self.X)\n",
    "\n",
    "    def __getitem__(self, idx):\n",
    "        x_tensor = torch.tensor(self.X[idx], dtype=torch.float32)\n",
    "        y_tensor = torch.tensor(self.y[idx], dtype=torch.long)\n",
    "        return x_tensor, y_tensor\n"
   ]
  },
  {
   "cell_type": "code",
   "execution_count": 11,
   "id": "b54b8dc1-f252-461e-b81e-a4969c769e0e",
   "metadata": {},
   "outputs": [
    {
     "name": "stdout",
     "output_type": "stream",
     "text": [
      "Classes: ['angry' 'disgust' 'fear' 'happy' 'neutral' 'sad' 'surprise']\n",
      "Class distribution in train set: [3483  358 3621 6892 4758 4222 2979]\n"
     ]
    }
   ],
   "source": [
    "from torch.utils.data import WeightedRandomSampler, DataLoader\n",
    "\n",
    "# Load datasets\n",
    "train_dataset = LandmarkEmotionDataset(\"cleaned_landmark_train.csv\")\n",
    "test_dataset = LandmarkEmotionDataset(\"cleaned_landmark_test.csv\", label_encoder=train_dataset.label_encoder)\n",
    "import joblib\n",
    "joblib.dump(train_dataset.label_encoder, \"label_encoder.pkl\")\n",
    "# ✅ Compute class weights for balancing\n",
    "class_counts = np.bincount(train_dataset.y.astype(int))\n",
    "class_weights = 1.0 / class_counts\n",
    "sample_weights = class_weights[train_dataset.y.astype(int)]\n",
    "\n",
    "# ✅ Use sampler for balanced training\n",
    "sampler = WeightedRandomSampler(weights=sample_weights, num_samples=len(sample_weights), replacement=True)\n",
    "\n",
    "# Create DataLoaders\n",
    "train_loader = DataLoader(train_dataset, batch_size=64, sampler=sampler)\n",
    "test_loader = DataLoader(test_dataset, batch_size=64, shuffle=False)\n",
    "\n",
    "# ✅ Print info\n",
    "print(\"Classes:\", train_dataset.label_encoder.classes_)\n",
    "print(\"Class distribution in train set:\", class_counts)\n"
   ]
  },
  {
   "cell_type": "code",
   "execution_count": 4,
   "id": "403f7247-8082-40f4-8df8-24ffaa1d569b",
   "metadata": {},
   "outputs": [],
   "source": [
    "class FERTransformer(nn.Module):\n",
    "    def __init__(self, input_dim=936, d_model=256, nhead=8, num_layers=4, num_classes=7):\n",
    "        super(FERTransformer, self).__init__()\n",
    "        self.embedding = nn.Linear(input_dim, d_model)\n",
    "        self.pos_encoding = nn.Parameter(torch.randn(1, 1, d_model))\n",
    "\n",
    "        encoder_layer = nn.TransformerEncoderLayer(d_model=d_model, nhead=nhead, dim_feedforward=512, activation='gelu')\n",
    "        self.transformer = nn.TransformerEncoder(encoder_layer, num_layers=num_layers)\n",
    "\n",
    "        self.dropout = nn.Dropout(0.3)\n",
    "        self.norm = nn.LayerNorm(d_model)\n",
    "\n",
    "        self.fc = nn.Linear(d_model, num_classes)\n",
    "\n",
    "    def forward(self, x):\n",
    "        x = self.embedding(x).unsqueeze(1)  # shape: (B, 1, d_model)\n",
    "        x = x + self.pos_encoding\n",
    "        x = self.transformer(x)\n",
    "        x = x.mean(dim=1)  # shape: (B, d_model)\n",
    "        x = self.norm(x)\n",
    "        x = self.dropout(x)\n",
    "        return self.fc(x)\n",
    "\n"
   ]
  },
  {
   "cell_type": "code",
   "execution_count": 5,
   "id": "ee2fb607-aa90-4d86-9d06-42419adcd6fe",
   "metadata": {
    "scrolled": true
   },
   "outputs": [
    {
     "name": "stderr",
     "output_type": "stream",
     "text": [
      "C:\\Users\\Sneha\\AppData\\Local\\Programs\\Python\\Python311\\Lib\\site-packages\\torch\\nn\\modules\\transformer.py:382: UserWarning: enable_nested_tensor is True, but self.use_nested_tensor is False because encoder_layer.self_attn.batch_first was not True(use batch_first for better inference performance)\n",
      "  warnings.warn(\n"
     ]
    },
    {
     "name": "stdout",
     "output_type": "stream",
     "text": [
      "Using device: cpu\n"
     ]
    },
    {
     "data": {
      "text/plain": [
       "FERTransformer(\n",
       "  (embedding): Linear(in_features=936, out_features=256, bias=True)\n",
       "  (transformer): TransformerEncoder(\n",
       "    (layers): ModuleList(\n",
       "      (0-3): 4 x TransformerEncoderLayer(\n",
       "        (self_attn): MultiheadAttention(\n",
       "          (out_proj): NonDynamicallyQuantizableLinear(in_features=256, out_features=256, bias=True)\n",
       "        )\n",
       "        (linear1): Linear(in_features=256, out_features=512, bias=True)\n",
       "        (dropout): Dropout(p=0.1, inplace=False)\n",
       "        (linear2): Linear(in_features=512, out_features=256, bias=True)\n",
       "        (norm1): LayerNorm((256,), eps=1e-05, elementwise_affine=True)\n",
       "        (norm2): LayerNorm((256,), eps=1e-05, elementwise_affine=True)\n",
       "        (dropout1): Dropout(p=0.1, inplace=False)\n",
       "        (dropout2): Dropout(p=0.1, inplace=False)\n",
       "      )\n",
       "    )\n",
       "  )\n",
       "  (dropout): Dropout(p=0.3, inplace=False)\n",
       "  (norm): LayerNorm((256,), eps=1e-05, elementwise_affine=True)\n",
       "  (fc): Linear(in_features=256, out_features=7, bias=True)\n",
       ")"
      ]
     },
     "execution_count": 5,
     "metadata": {},
     "output_type": "execute_result"
    }
   ],
   "source": [
    "model = FERTransformer(num_classes=len(train_dataset.label_encoder.classes_))\n",
    "\n",
    "# 🧠 AdamW with weight decay\n",
    "optimizer = torch.optim.AdamW(model.parameters(), lr=1e-4, weight_decay=1e-2)\n",
    "\n",
    "# 🎯 Loss function\n",
    "criterion = nn.CrossEntropyLoss()\n",
    "\n",
    "# ⚙️ Move to device\n",
    "device = torch.device('cuda' if torch.cuda.is_available() else 'cpu')\n",
    "print(\"Using device:\", device)\n",
    "model.to(device)\n"
   ]
  },
  {
   "cell_type": "code",
   "execution_count": 6,
   "id": "73c533b3-98ae-44fa-a3f7-eb1d30c0108a",
   "metadata": {},
   "outputs": [],
   "source": [
    "def train_epoch(model, loader, optimizer, criterion):\n",
    "    model.train()\n",
    "    total_loss, correct, total = 0, 0, 0\n",
    "\n",
    "    for x, y in loader:\n",
    "        x, y = x.to(device), y.to(device)\n",
    "        optimizer.zero_grad()\n",
    "        preds = model(x)\n",
    "        loss = criterion(preds, y)\n",
    "        loss.backward()\n",
    "\n",
    "        # 🚫 Clip gradients for stability\n",
    "        torch.nn.utils.clip_grad_norm_(model.parameters(), max_norm=1.0)\n",
    "\n",
    "        optimizer.step()\n",
    "\n",
    "        total_loss += loss.item() * x.size(0)\n",
    "        correct += (preds.argmax(1) == y).sum().item()\n",
    "        total += x.size(0)\n",
    "\n",
    "    return total_loss / total, correct / total\n",
    "\n",
    "\n",
    "def val_epoch(model, loader):\n",
    "    model.eval()\n",
    "    correct, total = 0, 0\n",
    "\n",
    "    with torch.no_grad():\n",
    "        for x, y in loader:\n",
    "            x, y = x.to(device), y.to(device)\n",
    "            preds = model(x)\n",
    "            correct += (preds.argmax(1) == y).sum().item()\n",
    "            total += x.size(0)\n",
    "\n",
    "    return correct / total\n",
    "\n"
   ]
  },
  {
   "cell_type": "code",
   "execution_count": 7,
   "id": "0696d84a-80ec-4aef-90a2-ffe93453d773",
   "metadata": {},
   "outputs": [
    {
     "name": "stdout",
     "output_type": "stream",
     "text": [
      "🔧 Current LR: 0.0001\n",
      "✅ Epoch 1: Best model saved with Val Acc = 35.47%\n",
      "📘 Epoch 1/20 | Loss: 1.6955 | Train Acc: 33.35% | Val Acc: 35.47%\n",
      "🔧 Current LR: 0.0001\n",
      "📘 Epoch 2/20 | Loss: 1.5136 | Train Acc: 41.64% | Val Acc: 33.24%\n",
      "🔧 Current LR: 0.0001\n",
      "✅ Epoch 3: Best model saved with Val Acc = 37.48%\n",
      "📘 Epoch 3/20 | Loss: 1.4472 | Train Acc: 44.38% | Val Acc: 37.48%\n",
      "🔧 Current LR: 0.0001\n",
      "📘 Epoch 4/20 | Loss: 1.4176 | Train Acc: 45.39% | Val Acc: 37.37%\n",
      "🔧 Current LR: 0.0001\n",
      "✅ Epoch 5: Best model saved with Val Acc = 39.50%\n",
      "📘 Epoch 5/20 | Loss: 1.3906 | Train Acc: 46.57% | Val Acc: 39.50%\n",
      "🔧 Current LR: 0.0001\n",
      "📘 Epoch 6/20 | Loss: 1.3789 | Train Acc: 46.87% | Val Acc: 37.31%\n",
      "🔧 Current LR: 0.0001\n",
      "📘 Epoch 7/20 | Loss: 1.3497 | Train Acc: 48.29% | Val Acc: 39.18%\n",
      "🔧 Current LR: 0.0001\n",
      "✅ Epoch 8: Best model saved with Val Acc = 40.14%\n",
      "📘 Epoch 8/20 | Loss: 1.3130 | Train Acc: 49.74% | Val Acc: 40.14%\n",
      "🔧 Current LR: 0.0001\n",
      "📘 Epoch 9/20 | Loss: 1.3094 | Train Acc: 49.62% | Val Acc: 37.70%\n",
      "🔧 Current LR: 0.0001\n",
      "✅ Epoch 10: Best model saved with Val Acc = 42.36%\n",
      "📘 Epoch 10/20 | Loss: 1.2773 | Train Acc: 50.96% | Val Acc: 42.36%\n",
      "🔧 Current LR: 0.0001\n",
      "📘 Epoch 11/20 | Loss: 1.2550 | Train Acc: 51.83% | Val Acc: 40.06%\n",
      "🔧 Current LR: 0.0001\n",
      "📘 Epoch 12/20 | Loss: 1.2328 | Train Acc: 52.74% | Val Acc: 39.79%\n",
      "🔧 Current LR: 0.0001\n",
      "📘 Epoch 13/20 | Loss: 1.2151 | Train Acc: 53.02% | Val Acc: 41.94%\n",
      "🔧 Current LR: 0.0001\n",
      "✅ Epoch 14: Best model saved with Val Acc = 43.57%\n",
      "📘 Epoch 14/20 | Loss: 1.2019 | Train Acc: 53.67% | Val Acc: 43.57%\n",
      "🔧 Current LR: 0.0001\n",
      "📘 Epoch 15/20 | Loss: 1.1840 | Train Acc: 53.92% | Val Acc: 41.57%\n",
      "🔧 Current LR: 0.0001\n",
      "📘 Epoch 16/20 | Loss: 1.1593 | Train Acc: 55.01% | Val Acc: 42.94%\n",
      "🔧 Current LR: 0.0001\n",
      "📘 Epoch 17/20 | Loss: 1.1497 | Train Acc: 55.47% | Val Acc: 43.54%\n",
      "🔧 Current LR: 0.0001\n",
      "✅ Epoch 18: Best model saved with Val Acc = 44.18%\n",
      "📘 Epoch 18/20 | Loss: 1.1305 | Train Acc: 56.12% | Val Acc: 44.18%\n",
      "🔧 Current LR: 0.0001\n",
      "📘 Epoch 19/20 | Loss: 1.1196 | Train Acc: 56.43% | Val Acc: 42.84%\n",
      "🔧 Current LR: 0.0001\n",
      "📘 Epoch 20/20 | Loss: 1.1140 | Train Acc: 56.59% | Val Acc: 42.00%\n"
     ]
    }
   ],
   "source": [
    "train_losses = []\n",
    "train_accuracies = []\n",
    "val_accuracies = []\n",
    "\n",
    "best_val_acc = 0\n",
    "best_model_path = \"best_fer_transformer.pth\"\n",
    "\n",
    "# 🔁 Optional: Scheduler\n",
    "scheduler = torch.optim.lr_scheduler.ReduceLROnPlateau(optimizer, mode='max', patience=3, factor=0.5)\n",
    "\n",
    "for epoch in range(20):\n",
    "    train_loss, train_acc = train_epoch(model, train_loader, optimizer, criterion)\n",
    "    val_acc = val_epoch(model, test_loader)\n",
    "\n",
    "    train_losses.append(train_loss)\n",
    "    train_accuracies.append(train_acc)\n",
    "    val_accuracies.append(val_acc)\n",
    "\n",
    "    # 🔁 Step scheduler\n",
    "    scheduler.step(val_acc)\n",
    "    for param_group in optimizer.param_groups:\n",
    "        print(f\"🔧 Current LR: {param_group['lr']}\")\n",
    "\n",
    "    if val_acc > best_val_acc:\n",
    "        best_val_acc = val_acc\n",
    "        torch.save(model.state_dict(), best_model_path)\n",
    "        print(f\"✅ Epoch {epoch+1}: Best model saved with Val Acc = {val_acc*100:.2f}%\")\n",
    "\n",
    "    print(f\"📘 Epoch {epoch+1}/20 | Loss: {train_loss:.4f} | Train Acc: {train_acc*100:.2f}% | Val Acc: {val_acc*100:.2f}%\")\n"
   ]
  },
  {
   "cell_type": "code",
   "execution_count": 8,
   "id": "c4676d9a-1f09-40f6-a1a3-639e06acd088",
   "metadata": {},
   "outputs": [],
   "source": [
    "from sklearn.metrics import classification_report\n",
    "\n",
    "def evaluate(model, loader):\n",
    "    model.eval()\n",
    "    total, correct = 0, 0\n",
    "    y_true, y_pred = [], []\n",
    "\n",
    "    with torch.no_grad():\n",
    "        for x, y in loader:\n",
    "            x, y = x.to(device), y.to(device)\n",
    "            preds = model(x)\n",
    "            pred_labels = preds.argmax(1)\n",
    "            correct += (pred_labels == y).sum().item()\n",
    "            total += x.size(0)\n",
    "\n",
    "            y_true.extend(y.cpu().numpy())\n",
    "            y_pred.extend(pred_labels.cpu().numpy())\n",
    "\n",
    "    acc = correct / total\n",
    "    print(f\"\\n🧪 Final Test Accuracy: {acc*100:.2f}%\\n\")\n",
    "    print(classification_report(y_true, y_pred, target_names=train_dataset.label_encoder.classes_))\n",
    "    return acc\n"
   ]
  },
  {
   "cell_type": "code",
   "execution_count": 9,
   "id": "68bbefda-d5a0-4b78-b460-f4736cd2aef0",
   "metadata": {
    "scrolled": true
   },
   "outputs": [
    {
     "name": "stdout",
     "output_type": "stream",
     "text": [
      "\n",
      "🧪 Final Test Accuracy: 44.18%\n",
      "\n",
      "              precision    recall  f1-score   support\n",
      "\n",
      "       angry       0.29      0.32      0.31       831\n",
      "     disgust       0.15      0.48      0.23        96\n",
      "        fear       0.24      0.13      0.17       918\n",
      "       happy       0.75      0.72      0.74      1697\n",
      "     neutral       0.41      0.39      0.40      1179\n",
      "         sad       0.30      0.37      0.33      1081\n",
      "    surprise       0.49      0.51      0.50       765\n",
      "\n",
      "    accuracy                           0.44      6567\n",
      "   macro avg       0.38      0.42      0.38      6567\n",
      "weighted avg       0.45      0.44      0.44      6567\n",
      "\n"
     ]
    },
    {
     "data": {
      "text/plain": [
       "0.44175422567382366"
      ]
     },
     "execution_count": 9,
     "metadata": {},
     "output_type": "execute_result"
    }
   ],
   "source": [
    "# Load best model and evaluate on test set\n",
    "model.load_state_dict(torch.load(\"best_fer_transformer.pth\"))\n",
    "model.to(device)\n",
    "evaluate(model, test_loader)\n"
   ]
  },
  {
   "cell_type": "code",
   "execution_count": 10,
   "id": "a6a30810-cb88-47da-886a-2405c4aa44be",
   "metadata": {},
   "outputs": [
    {
     "name": "stdout",
     "output_type": "stream",
     "text": [
      "\n",
      "🧪 Final Test Accuracy: 44.18%\n",
      "\n",
      "              precision    recall  f1-score   support\n",
      "\n",
      "       angry       0.29      0.32      0.31       831\n",
      "     disgust       0.15      0.48      0.23        96\n",
      "        fear       0.24      0.13      0.17       918\n",
      "       happy       0.75      0.72      0.74      1697\n",
      "     neutral       0.41      0.39      0.40      1179\n",
      "         sad       0.30      0.37      0.33      1081\n",
      "    surprise       0.49      0.51      0.50       765\n",
      "\n",
      "    accuracy                           0.44      6567\n",
      "   macro avg       0.38      0.42      0.38      6567\n",
      "weighted avg       0.45      0.44      0.44      6567\n",
      "\n",
      "✅ Final Test Accuracy: 44.18%\n"
     ]
    }
   ],
   "source": [
    "# 🔁 Load the best model (saved during training)\n",
    "model.load_state_dict(torch.load(\"best_fer_transformer.pth\"))\n",
    "model.to(device)\n",
    "\n",
    "# 🧪 Evaluate on test set\n",
    "test_acc = evaluate(model, test_loader)\n",
    "print(f\"✅ Final Test Accuracy: {test_acc*100:.2f}%\")\n"
   ]
  },
  {
   "cell_type": "code",
   "execution_count": 41,
   "id": "bcc9bb97-6da8-4bdf-b751-d0c6e34ccb08",
   "metadata": {},
   "outputs": [
    {
     "data": {
      "image/png": "[encoded data removed]",
      "text/plain": [
       "<Figure size 1200x500 with 2 Axes>"
      ]
     },
     "metadata": {},
     "output_type": "display_data"
    }
   ],
   "source": [
    "epochs = range(1, 21)\n",
    "\n",
    "plt.figure(figsize=(12, 5))\n",
    "\n",
    "# Plot training loss\n",
    "plt.subplot(1, 2, 1)\n",
    "plt.plot(epochs, train_losses, label=\"Train Loss\")\n",
    "plt.xlabel(\"Epoch\")\n",
    "plt.ylabel(\"Loss\")\n",
    "plt.title(\"Training Loss Over Epochs\")\n",
    "plt.grid(True)\n",
    "\n",
    "# Plot accuracies\n",
    "plt.subplot(1, 2, 2)\n",
    "plt.plot(epochs, [a*100 for a in train_accuracies], label=\"Train Acc\")\n",
    "plt.plot(epochs, [a*100 for a in val_accuracies], label=\"Val Acc\")\n",
    "plt.xlabel(\"Epoch\")\n",
    "plt.ylabel(\"Accuracy (%)\")\n",
    "plt.title(\"Training & Validation Accuracy\")\n",
    "plt.legend()\n",
    "plt.grid(True)\n",
    "\n",
    "plt.tight_layout()\n",
    "plt.show()\n"
   ]
  },
  {
   "cell_type": "code",
   "execution_count": null,
   "id": "e9b43da7-a581-4efd-88e7-84e9ba91a579",
   "metadata": {},
   "outputs": [],
   "source": []
  },
  {
   "cell_type": "code",
   "execution_count": null,
   "id": "561ad2dd-1186-46cf-85e7-4eddaca75dd9",
   "metadata": {},
   "outputs": [],
   "source": []
  },
  {
   "cell_type": "code",
   "execution_count": null,
   "id": "7e36ed2b-830d-4d74-b522-1eb3b3f7b1b2",
   "metadata": {},
   "outputs": [],
   "source": []
  }
 ],
 "metadata": {
  "kernelspec": {
   "display_name": "Python 3 (ipykernel)",
   "language": "python",
   "name": "python3"
  },
  "language_info": {
   "codemirror_mode": {
    "name": "ipython",
    "version": 3
   },
   "file_extension": ".py",
   "mimetype": "text/x-python",
   "name": "python",
   "nbconvert_exporter": "python",
   "pygments_lexer": "ipython3",
   "version": "3.11.9"
  }
 },
 "nbformat": 4,
 "nbformat_minor": 5
}
